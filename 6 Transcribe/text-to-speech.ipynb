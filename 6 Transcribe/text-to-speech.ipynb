{
 "cells": [
  {
   "cell_type": "code",
   "execution_count": null,
   "metadata": {},
   "outputs": [],
   "source": [
    "!pip install gTTS\n",
    "#run tabove command on command prompt to install gTTS module"
   ]
  },
  {
   "cell_type": "code",
   "execution_count": null,
   "metadata": {},
   "outputs": [],
   "source": [
    "from gtts import gTTS\n",
    "import os\n",
    "\n",
    "# The text that you want to convert to audio\n",
    "#text_data = 'Wonke umuntu unelungelo lemfundo. Imfundo iyotholakala ngesihle, okungenani emabangeni aphansi ayingqalasizinda. Imfundo eyisingeniso iyoba ngeyempoqo. Imfundo yobuchwepheshe neyenzululwazi iyokwenziwa ibe khona ngokwejwayelekile bese kuthi imfundo ephakeme itholakale kubobonke ngobunjalo babo'\n",
    "text_data=\"Digital Regenesys is a leading online educational platform that offers a wide array of upskilling courses designed to empower individuals and organisations with the latest industry-relevant skills. Digital Regenesys operates globally, with a strong presence in the United States, South Africa, Nigeria, Kenya, India, Croatia, Uganda, and Tanzania. Our mission is to bridge the skills gap and drive economic growth by providing learners with access to high-quality, cutting-edge education. Whether in Artificial Intelligence, Data Science or Cybersecurity, Digital Regenesys offers comprehensive courses that cater to diverse learning needs.\"\n",
    "# Language in which you want to convert\n",
    "language = 'en'\n",
    "\n",
    "myobj = gTTS(text=text_data)\n",
    "\n",
    "# Saving the converted audio in a mp3 file named welcome \n",
    "myobj.save(\"welcome.mp3\")\n",
    "\n",
    "# Playing the converted file\n",
    "os.system(\"start welcome.mp3\")"
   ]
  }
 ],
 "metadata": {
  "kernelspec": {
   "display_name": "base",
   "language": "python",
   "name": "python3"
  },
  "language_info": {
   "name": "python",
   "version": "3.12.7"
  }
 },
 "nbformat": 4,
 "nbformat_minor": 2
}
